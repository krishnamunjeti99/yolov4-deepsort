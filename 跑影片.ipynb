{
 "cells": [
  {
   "cell_type": "code",
   "execution_count": null,
   "metadata": {},
   "outputs": [],
   "source": [
    "import os"
   ]
  },
  {
   "cell_type": "code",
   "execution_count": null,
   "metadata": {},
   "outputs": [],
   "source": [
    "SSA_VIDEO_LIST=[]\n",
    "TA_VIDEO_LIST=[]\n",
    "SSA_path = r\"C:\\Experiment\\darknet-master\\build\\darknet\\x64\\videos\\SSA2\"\n",
    "for i in os.listdir(SSA_path):\n",
    "    SSA_VIDEO_LIST.append(i)\n",
    "    \n",
    "TA_path = r\"C:\\Experiment\\darknet-master\\build\\darknet\\x64\\videos\\TA2\"\n",
    "for j in os.listdir(TA_path):\n",
    "    TA_VIDEO_LIST.append(j)"
   ]
  },
  {
   "cell_type": "code",
   "execution_count": null,
   "metadata": {},
   "outputs": [],
   "source": [
    "for SSA_VIDEO in SSA_VIDEO_LIST:\n",
    "    !python object_tracker.py --video {os.path.join(SSA_path,SSA_VIDEO)} --output {\"./outputs/\" + SSA_VIDEO[:-4]+\".avi\"} --model yolov4 --size 608 --weights ./checkpoints/gan_600_100_2"
   ]
  },
  {
   "cell_type": "code",
   "execution_count": null,
   "metadata": {},
   "outputs": [],
   "source": [
    "for SSA_VIDEO in SSA_VIDEO_LIST:\n",
    "    !python object_tracker.py --video {os.path.join(SSA_path,SSA_VIDEO)} --output {\".\\\\outputs\\\\\" + SSA_VIDEO[:-4]+\".avi\"} --model yolov4 --size 608 --weights ./checkpoints/gan_600_50_best"
   ]
  },
  {
   "cell_type": "code",
   "execution_count": null,
   "metadata": {},
   "outputs": [],
   "source": [
    "for TA_VIDEO in TA_VIDEO_LIST:\n",
    "    !python object_tracker.py --video {os.path.join(TA_path,TA_VIDEO)} --output {\".\\\\outputs\\\\\" + TA_VIDEO[:-4]+\".avi\"} --model yolov4 --size 608 --weights ./checkpoints/gan_600_50_best"
   ]
  }
 ],
 "metadata": {
  "kernelspec": {
   "display_name": "Python 3",
   "language": "python",
   "name": "python3"
  },
  "language_info": {
   "codemirror_mode": {
    "name": "ipython",
    "version": 3
   },
   "file_extension": ".py",
   "mimetype": "text/x-python",
   "name": "python",
   "nbconvert_exporter": "python",
   "pygments_lexer": "ipython3",
   "version": "3.5.5"
  }
 },
 "nbformat": 4,
 "nbformat_minor": 5
}
